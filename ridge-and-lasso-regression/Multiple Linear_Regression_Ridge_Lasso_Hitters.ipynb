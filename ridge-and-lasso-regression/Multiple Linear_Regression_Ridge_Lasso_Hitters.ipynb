{
 "cells": [
  {
   "cell_type": "markdown",
   "id": "4218e7d7",
   "metadata": {},
   "source": [
    "# Linear, ridge, and lasso regression example"
   ]
  },
  {
   "cell_type": "markdown",
   "id": "1480f463",
   "metadata": {},
   "source": [
    "## Import the libraries"
   ]
  },
  {
   "cell_type": "code",
   "execution_count": null,
   "id": "f5504755",
   "metadata": {},
   "outputs": [],
   "source": [
    "import pandas as pd\n",
    "import numpy as np\n",
    "import math\n",
    "import matplotlib.pyplot as plt\n",
    "import seaborn as sns\n",
    "sns.set()\n",
    "\n",
    "from sklearn.preprocessing import StandardScaler\n",
    "\n",
    "from sklearn.linear_model import LinearRegression\n",
    "from sklearn.linear_model import RidgeCV\n",
    "from sklearn.linear_model import LassoCV\n",
    "\n",
    "from sklearn.model_selection import RepeatedKFold\n",
    "from sklearn.model_selection import train_test_split\n",
    "\n",
    "from sklearn.metrics import mean_squared_error"
   ]
  },
  {
   "cell_type": "markdown",
   "id": "22487675",
   "metadata": {},
   "source": [
    "## Load the data"
   ]
  },
  {
   "cell_type": "code",
   "execution_count": null,
   "id": "3decc285",
   "metadata": {},
   "outputs": [],
   "source": [
    "data = pd.read_csv('Hitters.csv')\n",
    "df_hitters = data.copy()\n",
    "df_hitters"
   ]
  },
  {
   "cell_type": "code",
   "execution_count": null,
   "id": "ee7db941",
   "metadata": {},
   "outputs": [],
   "source": [
    "# Categorical variables\n",
    "print('The league types are:', df_hitters['League'].unique())\n",
    "print('The divison types are:', df_hitters['Division'].unique())\n",
    "print('The new league options are:', df_hitters['NewLeague'].unique())"
   ]
  },
  {
   "cell_type": "code",
   "execution_count": null,
   "id": "de8c4d19",
   "metadata": {},
   "outputs": [],
   "source": [
    "df_hitters_num = pd.get_dummies(df_hitters, columns = ['League', 'Division', 'NewLeague'], drop_first=True)\n",
    "df_hitters_num"
   ]
  },
  {
   "cell_type": "code",
   "execution_count": null,
   "id": "27f59a1e",
   "metadata": {},
   "outputs": [],
   "source": [
    "# Check if there are NaN values\n",
    "df_hitters_num.isnull().sum()"
   ]
  },
  {
   "cell_type": "code",
   "execution_count": null,
   "id": "5bc9f90b",
   "metadata": {},
   "outputs": [],
   "source": [
    "df_hitters_num_nonull = df_hitters_num.dropna()\n",
    "df_hitters_num_nonull.isnull().sum()"
   ]
  },
  {
   "cell_type": "code",
   "execution_count": null,
   "id": "36e37db3",
   "metadata": {},
   "outputs": [],
   "source": [
    "# Check distribution\n",
    "sns.displot(df_hitters_num_nonull['Salary']);"
   ]
  },
  {
   "cell_type": "code",
   "execution_count": null,
   "id": "84290119",
   "metadata": {},
   "outputs": [],
   "source": [
    "# Check the correlation between the dependent and independent variables\n",
    "correlation = df_hitters_num_nonull.corr()\n",
    "correlation['Salary'].sort_values(ascending=True)"
   ]
  },
  {
   "cell_type": "code",
   "execution_count": null,
   "id": "66a00120",
   "metadata": {},
   "outputs": [],
   "source": [
    "# Check for multicolinearity\n",
    "plt.figure(figsize=(11,9))\n",
    "sns.heatmap(df_hitters.corr(),\n",
    "            vmin = -1, \n",
    "            vmax = 1,\n",
    "            cmap =\"GnBu\",\n",
    "            annot=True)\n",
    "plt.show()"
   ]
  },
  {
   "cell_type": "markdown",
   "id": "3c7526ba",
   "metadata": {},
   "source": [
    "## Declare the dependent and independent variables"
   ]
  },
  {
   "cell_type": "code",
   "execution_count": null,
   "id": "db887284",
   "metadata": {},
   "outputs": [],
   "source": [
    "X = df_hitters_num_nonull.drop('Salary', axis = 1)\n",
    "y = df_hitters_num_nonull['Salary']"
   ]
  },
  {
   "cell_type": "markdown",
   "id": "da4e75c6",
   "metadata": {},
   "source": [
    "## Split the data into training and testing parts"
   ]
  },
  {
   "cell_type": "code",
   "execution_count": null,
   "id": "613f1942",
   "metadata": {},
   "outputs": [],
   "source": [
    "X_train, X_test, y_train, y_test = train_test_split(X, y, test_size=0.35, random_state=365)"
   ]
  },
  {
   "cell_type": "code",
   "execution_count": null,
   "id": "a47e8087",
   "metadata": {},
   "outputs": [],
   "source": [
    "scaler = StandardScaler()\n",
    "\n",
    "X_train = scaler.fit_transform(X_train)\n",
    "X_test = scaler.transform(X_test)"
   ]
  },
  {
   "cell_type": "markdown",
   "id": "7195abbf",
   "metadata": {},
   "source": [
    "## Perform linear regression"
   ]
  },
  {
   "cell_type": "code",
   "execution_count": null,
   "id": "19e3a995",
   "metadata": {},
   "outputs": [],
   "source": [
    "lin_reg = LinearRegression()\n",
    "lin_reg.fit(X_train, y_train)"
   ]
  },
  {
   "cell_type": "code",
   "execution_count": null,
   "id": "5b14e8d1",
   "metadata": {},
   "outputs": [],
   "source": [
    "print(\"Linear Regression coefficients are: \",lin_reg.coef_)\n",
    "print(\"Linear Regression y-intercept is: \",lin_reg.intercept_)"
   ]
  },
  {
   "cell_type": "code",
   "execution_count": null,
   "id": "43ac19b3",
   "metadata": {},
   "outputs": [],
   "source": [
    "lin_reg_y_pred = lin_reg.predict(X_test)\n",
    "lin_reg_y_pred"
   ]
  },
  {
   "cell_type": "code",
   "execution_count": null,
   "id": "047235a2",
   "metadata": {},
   "outputs": [],
   "source": [
    "lin_comp = pd.DataFrame({'Predicted': lin_reg_y_pred, 'Actual': y_test})\n",
    "lin_comp"
   ]
  },
  {
   "cell_type": "code",
   "execution_count": null,
   "id": "d834ff2d",
   "metadata": {},
   "outputs": [],
   "source": [
    "print(\"Linear Regression Model RMSE is: \", math.sqrt(mean_squared_error(y_test, lin_reg_y_pred)))\n",
    "print(\"Linear Regression Model Training Score: \",lin_reg.score(X_train, y_train))\n",
    "print(\"Linear Regression Model Testing Score: \",lin_reg.score(X_test, y_test))"
   ]
  },
  {
   "cell_type": "markdown",
   "id": "fd6300bd",
   "metadata": {},
   "source": [
    "## Perform ridge regression "
   ]
  },
  {
   "cell_type": "code",
   "execution_count": null,
   "id": "959049b7",
   "metadata": {},
   "outputs": [],
   "source": [
    "cv = RepeatedKFold(n_splits=5, n_repeats=3, random_state=1)"
   ]
  },
  {
   "cell_type": "code",
   "execution_count": null,
   "id": "9c2c29bc",
   "metadata": {},
   "outputs": [],
   "source": [
    "# Initializing the ridge regressor\n",
    "ridge = RidgeCV(alphas=np.arange(0.1, 10, 0.1), cv=cv, scoring='neg_mean_absolute_error')"
   ]
  },
  {
   "cell_type": "code",
   "execution_count": null,
   "id": "f4a62f89",
   "metadata": {},
   "outputs": [],
   "source": [
    "# Fitting the ridge regressor\n",
    "ridge.fit(X_train,y_train)\n",
    "ridge_reg_y_pred = ridge.predict(X_test)\n",
    "\n",
    "print(\"Ridge tuning parameter:\", (ridge.alpha_))\n",
    "print (\"Ridge model coefficients:\", (ridge.coef_))\n",
    "print (\"Ridge model intercept:\", (ridge.intercept_))"
   ]
  },
  {
   "cell_type": "code",
   "execution_count": null,
   "id": "2f0b7fea",
   "metadata": {},
   "outputs": [],
   "source": [
    "print(\"Ridge Regression Model RMSE is: \", math.sqrt(mean_squared_error(y_test, ridge_reg_y_pred)))\n",
    "print(\"Ridge Regression Model Training Score: \",ridge.score(X_train, y_train))\n",
    "print(\"Ridge Regression Model Testing Score: \",ridge.score(X_test, y_test))"
   ]
  },
  {
   "cell_type": "markdown",
   "id": "f7d5daf7",
   "metadata": {},
   "source": [
    "## Perform lasso regression"
   ]
  },
  {
   "cell_type": "code",
   "execution_count": null,
   "id": "0494e21f",
   "metadata": {},
   "outputs": [],
   "source": [
    "# Initializing the lasso regressor\n",
    "lasso = LassoCV(alphas=np.arange(0.1, 10.0, 0.1), cv=cv, tol = 1)"
   ]
  },
  {
   "cell_type": "code",
   "execution_count": null,
   "id": "952ab278",
   "metadata": {},
   "outputs": [],
   "source": [
    "# Fitting the lasso regressor\n",
    "lasso.fit(X_train,y_train)\n",
    "lasso_reg_y_pred = lasso.predict(X_test)\n",
    "\n",
    "print(\"Lasso tuning parameter:\", (lasso.alpha_))\n",
    "print (\"Lasso model coefficients:\", (lasso.coef_))\n",
    "print (\"Lassso model intercept:\", (lasso.intercept_))"
   ]
  },
  {
   "cell_type": "code",
   "execution_count": null,
   "id": "e738580b",
   "metadata": {},
   "outputs": [],
   "source": [
    "print(\"Lasso Regression Model RMSE is: \", math.sqrt(mean_squared_error(y_test, lasso_reg_y_pred)))\n",
    "print(\"Lasso Regression Model Training Score: \",lasso.score(X_train, y_train))\n",
    "print(\"Lasso Regression Model Testing Score: \",lasso.score(X_test, y_test))"
   ]
  },
  {
   "cell_type": "markdown",
   "id": "a17e742f",
   "metadata": {},
   "source": [
    "## Compare the score"
   ]
  },
  {
   "cell_type": "code",
   "execution_count": null,
   "id": "80e21a6b",
   "metadata": {},
   "outputs": [],
   "source": [
    "print(\"Linear Regression Model Training Score: \",lin_reg.score(X_train, y_train))\n",
    "print(\"Linear Regression Model Testing Score: \",lin_reg.score(X_test, y_test))\n",
    "print(\"Ridge Regression Model Training Score: \",ridge.score(X_train, y_train))\n",
    "print(\"Ridge Regression Model Testing Score: \",ridge.score(X_test, y_test))\n",
    "print(\"Lasso Regression Model Training Score: \",lasso.score(X_train, y_train))\n",
    "print(\"Lasso Regression Model Testing Score: \",lasso.score(X_test, y_test))"
   ]
  },
  {
   "cell_type": "markdown",
   "id": "30763c39",
   "metadata": {},
   "source": [
    "## Root mean squared error"
   ]
  },
  {
   "cell_type": "code",
   "execution_count": null,
   "id": "214fff75",
   "metadata": {
    "scrolled": true
   },
   "outputs": [],
   "source": [
    "print(\"Linear Regression Model RMSE is: \", math.sqrt(mean_squared_error(y_test, lin_reg_y_pred)))\n",
    "print(\"Ridge Regression Model RMSE is: \", math.sqrt(mean_squared_error(y_test, ridge_reg_y_pred)))\n",
    "print(\"Lasso Regression Model RMSE is: \", math.sqrt(mean_squared_error(y_test, lasso_reg_y_pred)))"
   ]
  },
  {
   "cell_type": "markdown",
   "id": "c8bba971",
   "metadata": {},
   "source": [
    "## Replacing the missing values in the DataFrame"
   ]
  },
  {
   "cell_type": "code",
   "execution_count": null,
   "id": "94fe1e2c",
   "metadata": {},
   "outputs": [],
   "source": [
    "df_hitters_nan = df_hitters_num[df_hitters_num['Salary'].isnull()]\n",
    "df_hitters_nan"
   ]
  },
  {
   "cell_type": "code",
   "execution_count": null,
   "id": "a3a08e5b",
   "metadata": {},
   "outputs": [],
   "source": [
    "X_nan = df_hitters_nan.drop('Salary', axis = 1)\n",
    "y_nan = df_hitters_nan['Salary']"
   ]
  },
  {
   "cell_type": "code",
   "execution_count": null,
   "id": "6031b9f8",
   "metadata": {},
   "outputs": [],
   "source": [
    "scaler = StandardScaler()\n",
    "X_nan = scaler.fit_transform(X_nan)"
   ]
  },
  {
   "cell_type": "code",
   "execution_count": null,
   "id": "163035a4",
   "metadata": {},
   "outputs": [],
   "source": [
    "nan_pred = ridge.predict(X_nan)\n",
    "nan_pred"
   ]
  },
  {
   "cell_type": "code",
   "execution_count": null,
   "id": "03302f29",
   "metadata": {
    "scrolled": true
   },
   "outputs": [],
   "source": [
    "# df_hitters_nan.drop(['Salary'], axis=1)\n",
    "df_nan_full = df_hitters_nan.copy()\n",
    "df_nan_full['Salary'] = nan_pred\n",
    "df_nan_full"
   ]
  }
 ],
 "metadata": {
  "kernelspec": {
   "display_name": "Python 3 (ipykernel)",
   "language": "python",
   "name": "python3"
  },
  "language_info": {
   "codemirror_mode": {
    "name": "ipython",
    "version": 3
   },
   "file_extension": ".py",
   "mimetype": "text/x-python",
   "name": "python",
   "nbconvert_exporter": "python",
   "pygments_lexer": "ipython3",
   "version": "3.9.7"
  }
 },
 "nbformat": 4,
 "nbformat_minor": 5
}
